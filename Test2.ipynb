{
 "cells": [
  {
   "cell_type": "markdown",
   "id": "370a69e2-5599-48d8-a8d5-39c27d379d1f",
   "metadata": {},
   "source": [
    "## \n",
    "    1. WAP to convert km to miles ?\n",
    "    2. WAP to convert celcius to fahrenheit ?\n",
    "    3. WAP to display calender ?\n",
    "    4. WAP to solve quadratic equation ?\n",
    "    5. WAP to swap two variable without temp variable ?"
   ]
  },
  {
   "cell_type": "code",
   "execution_count": 21,
   "id": "f157f1c4-8512-47d2-862a-2c4f5f9eca5d",
   "metadata": {},
   "outputs": [
    {
     "name": "stdin",
     "output_type": "stream",
     "text": [
      "Enter the value for convertion : 2\n"
     ]
    },
    {
     "name": "stdout",
     "output_type": "stream",
     "text": [
      "2.0 kilometers is equal to 1.242742 miles.\n"
     ]
    }
   ],
   "source": [
    "#1. WAP to convert km to miles ?\n",
    "\n",
    "kilometers = float(input(\"Enter the value for convertion :\"))\n",
    "convertion = 0.621371\n",
    "miles = convertion*kilometers\n",
    "print(f\"{kilometers} kilometers is equal to {miles} miles.\")\n"
   ]
  },
  {
   "cell_type": "code",
   "execution_count": 23,
   "id": "93dc7edd-8941-4652-bb7f-fabd2b84a60c",
   "metadata": {},
   "outputs": [
    {
     "name": "stdin",
     "output_type": "stream",
     "text": [
      "Enter the value for convertion : 1\n"
     ]
    },
    {
     "name": "stdout",
     "output_type": "stream",
     "text": [
      "1.0 celcius is equal to 33.8 fahrenheit.\n"
     ]
    }
   ],
   "source": [
    "#2. WAP to convert celcius to fahrenheit ?\n",
    "\n",
    "celcius = float(input(\"Enter the value for convertion :\"))\n",
    "convertion = 33.8\n",
    "fahrenheit = convertion*celcius\n",
    "print(f\"{celcius} celcius is equal to {fahrenheit} fahrenheit.\")"
   ]
  },
  {
   "cell_type": "code",
   "execution_count": 45,
   "id": "62e407d1-af89-46f9-8330-db2dcf66eeb1",
   "metadata": {},
   "outputs": [
    {
     "name": "stdin",
     "output_type": "stream",
     "text": [
      "Enter Year:  1992\n",
      "Enter month:  3\n"
     ]
    },
    {
     "name": "stdout",
     "output_type": "stream",
     "text": [
      "     March 1992\n",
      "Mo Tu We Th Fr Sa Su\n",
      "                   1\n",
      " 2  3  4  5  6  7  8\n",
      " 9 10 11 12 13 14 15\n",
      "16 17 18 19 20 21 22\n",
      "23 24 25 26 27 28 29\n",
      "30 31\n",
      "\n"
     ]
    }
   ],
   "source": [
    "#3. WAP to display calender ?\n",
    "import calendar\n",
    "\n",
    "Year = int(input(\"Enter Year: \"))\n",
    "Month = int(input(\"Enter month: \"))\n",
    "\n",
    "print(calendar.month(Year, Month))\n"
   ]
  },
  {
   "cell_type": "code",
   "execution_count": 53,
   "id": "cddc7db8-14f2-48b6-9fcd-d83b19054814",
   "metadata": {},
   "outputs": [
    {
     "name": "stdin",
     "output_type": "stream",
     "text": [
      "Enter Year:  2011\n"
     ]
    },
    {
     "name": "stdout",
     "output_type": "stream",
     "text": [
      "                                  2011\n",
      "\n",
      "      January                   February                   March\n",
      "Mo Tu We Th Fr Sa Su      Mo Tu We Th Fr Sa Su      Mo Tu We Th Fr Sa Su\n",
      "                1  2          1  2  3  4  5  6          1  2  3  4  5  6\n",
      " 3  4  5  6  7  8  9       7  8  9 10 11 12 13       7  8  9 10 11 12 13\n",
      "10 11 12 13 14 15 16      14 15 16 17 18 19 20      14 15 16 17 18 19 20\n",
      "17 18 19 20 21 22 23      21 22 23 24 25 26 27      21 22 23 24 25 26 27\n",
      "24 25 26 27 28 29 30      28                        28 29 30 31\n",
      "31\n",
      "\n",
      "       April                      May                       June\n",
      "Mo Tu We Th Fr Sa Su      Mo Tu We Th Fr Sa Su      Mo Tu We Th Fr Sa Su\n",
      "             1  2  3                         1             1  2  3  4  5\n",
      " 4  5  6  7  8  9 10       2  3  4  5  6  7  8       6  7  8  9 10 11 12\n",
      "11 12 13 14 15 16 17       9 10 11 12 13 14 15      13 14 15 16 17 18 19\n",
      "18 19 20 21 22 23 24      16 17 18 19 20 21 22      20 21 22 23 24 25 26\n",
      "25 26 27 28 29 30         23 24 25 26 27 28 29      27 28 29 30\n",
      "                          30 31\n",
      "\n",
      "        July                     August                  September\n",
      "Mo Tu We Th Fr Sa Su      Mo Tu We Th Fr Sa Su      Mo Tu We Th Fr Sa Su\n",
      "             1  2  3       1  2  3  4  5  6  7                1  2  3  4\n",
      " 4  5  6  7  8  9 10       8  9 10 11 12 13 14       5  6  7  8  9 10 11\n",
      "11 12 13 14 15 16 17      15 16 17 18 19 20 21      12 13 14 15 16 17 18\n",
      "18 19 20 21 22 23 24      22 23 24 25 26 27 28      19 20 21 22 23 24 25\n",
      "25 26 27 28 29 30 31      29 30 31                  26 27 28 29 30\n",
      "\n",
      "      October                   November                  December\n",
      "Mo Tu We Th Fr Sa Su      Mo Tu We Th Fr Sa Su      Mo Tu We Th Fr Sa Su\n",
      "                1  2          1  2  3  4  5  6                1  2  3  4\n",
      " 3  4  5  6  7  8  9       7  8  9 10 11 12 13       5  6  7  8  9 10 11\n",
      "10 11 12 13 14 15 16      14 15 16 17 18 19 20      12 13 14 15 16 17 18\n",
      "17 18 19 20 21 22 23      21 22 23 24 25 26 27      19 20 21 22 23 24 25\n",
      "24 25 26 27 28 29 30      28 29 30                  26 27 28 29 30 31\n",
      "31\n",
      "\n"
     ]
    }
   ],
   "source": [
    "#3. WAP to display calender ?\n",
    "import calendar\n",
    "\n",
    "Year = int(input(\"Enter Year: \"))\n",
    "print(calendar.calendar(Year))"
   ]
  },
  {
   "cell_type": "code",
   "execution_count": 73,
   "id": "38876ee3-e4e5-480f-a166-89eaaece92d1",
   "metadata": {},
   "outputs": [
    {
     "name": "stdin",
     "output_type": "stream",
     "text": [
      "Enter a:  4\n",
      "Enter b:  13\n",
      "Enter c:  1\n"
     ]
    },
    {
     "name": "stdout",
     "output_type": "stream",
     "text": [
      "the roots are: (-3.1711646096066226+0j) and (-0.07883539039337739+0j)\n"
     ]
    }
   ],
   "source": [
    "#WAP to solve quadratic equation ?\n",
    "import cmath  \n",
    "a = float(input('Enter a: '))  \n",
    "b = float(input('Enter b: '))  \n",
    "c = float(input('Enter c: '))  \n",
    "  \n",
    "d = (b**2) - (4*a*c)  \n",
    "   \n",
    "sol1 = (-b-cmath.sqrt(d))/(2*a)  \n",
    "sol2 = (-b+cmath.sqrt(d))/(2*a)  \n",
    "print(f\"the roots are: {sol1} and {sol2}\")"
   ]
  },
  {
   "cell_type": "code",
   "execution_count": 67,
   "id": "51e13931-1d71-4236-82eb-933a0d69fa1d",
   "metadata": {},
   "outputs": [
    {
     "name": "stdin",
     "output_type": "stream",
     "text": [
      "Enter the variable 1 :  3\n",
      "Enter the variable 2 :  7\n"
     ]
    },
    {
     "name": "stdout",
     "output_type": "stream",
     "text": [
      "Swaping of two variable : 7,3 \n"
     ]
    }
   ],
   "source": [
    "#WAP to swap two variable without temp variable ?\n",
    "var1 = int(input(\"Enter the variable 1 : \"))\n",
    "var2 = int(input(\"Enter the variable 2 : \"))\n",
    "\n",
    "var1, var2 = var2,var1\n",
    "print(f\"Swaping of two variable : {var1},{var2} \" )"
   ]
  },
  {
   "cell_type": "code",
   "execution_count": null,
   "id": "25b70fcf-e443-4a03-8445-5b1d8e9d25cd",
   "metadata": {},
   "outputs": [],
   "source": []
  }
 ],
 "metadata": {
  "kernelspec": {
   "display_name": "Python 3 (ipykernel)",
   "language": "python",
   "name": "python3"
  },
  "language_info": {
   "codemirror_mode": {
    "name": "ipython",
    "version": 3
   },
   "file_extension": ".py",
   "mimetype": "text/x-python",
   "name": "python",
   "nbconvert_exporter": "python",
   "pygments_lexer": "ipython3",
   "version": "3.12.4"
  }
 },
 "nbformat": 4,
 "nbformat_minor": 5
}
